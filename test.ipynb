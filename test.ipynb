{
 "cells": [
  {
   "cell_type": "code",
   "execution_count": 2,
   "metadata": {},
   "outputs": [],
   "source": [
    "\n"
   ]
  },
  {
   "cell_type": "code",
   "execution_count": null,
   "metadata": {},
   "outputs": [],
   "source": [
    "import os\n",
    "import boto3\n",
    "import fitz  # PyMuPDF\n",
    "from tqdm import tqdm\n",
    "from langchain.text_splitter import RecursiveCharacterTextSplitter\n",
    "from langchain_aws.embeddings import BedrockEmbeddings\n",
    "from langchain_community.vectorstores import FAISS\n",
    "from langchain.indexes import VectorstoreIndexCreator\n",
    "from langchain.docstore.document import Document\n",
    "from preprocess import PDFProcessor\n",
    "\n",
    "# S3에서 PDF 파일을 다운로드하는 함수\n",
    "def download_pdfs_from_s3(bucket_name, prefix, download_path='/tmp/pdfs'):\n",
    "    s3_client = boto3.client('s3')\n",
    "    response = s3_client.list_objects_v2(Bucket=bucket_name, Prefix=prefix)\n",
    "    \n",
    "    if not os.path.exists(download_path):\n",
    "        os.makedirs(download_path)\n",
    "    \n",
    "    pdf_files = []\n",
    "    total_files = len(response.get('Contents', []))\n",
    "    \n",
    "    for obj in tqdm(response.get('Contents', []), desc=\"Downloading PDFs\", total=total_files):\n",
    "        if obj['Key'].endswith('.pdf'):\n",
    "            file_name = os.path.join(download_path, obj['Key'].split('/')[-1])\n",
    "            s3_client.download_file(bucket_name, obj['Key'], file_name)\n",
    "            pdf_files.append(file_name)\n",
    "    \n",
    "    return pdf_files\n",
    "\n",
    "# PyMuPDF를 사용하여 PDF에서 텍스트 추출하는 함수 (오류 처리 추가)\n",
    "def _extract_text_from_pdf(pdf_path):\n",
    "    try:\n",
    "        doc = fitz.open(pdf_path)\n",
    "        text = \"\"\n",
    "        for page_num in range(len(doc)):\n",
    "            page = doc.load_page(page_num)\n",
    "            text += page.get_text()\n",
    "        return text\n",
    "    except Exception as e:\n",
    "        print(f\"Error processing {pdf_path}: {e}\")\n",
    "        return \"\"\n",
    "    \n",
    "def _extract_preprocessed_text_from_pdf(pdf_path):\n",
    "    try:\n",
    "        doc = fitz.open(pdf_path)\n",
    "        text = \"\"\n",
    "        for page_num in range(len(doc)):\n",
    "            page = doc.load_page(page_num)\n",
    "            text += page.get_text()\n",
    "        return text\n",
    "    except Exception as e:\n",
    "        print(f\"Error processing {pdf_path}: {e}\")\n",
    "        return \"\"\n",
    "# Bedrock 임베딩을 사용하여 인덱스 생성 및 벡터 DB 저장\n",
    "def create_and_save_bedrock_index(pdf_paths, bucket_name, preprocess = True, vector_db_s3_path='vectorDB/'):\n",
    "    # 문서 로드 및 텍스트 추출\n",
    "    if preprocess:\n",
    "        processor = PDFProcessor(pdf_paths)\n",
    "        return processor.hr_index()\n",
    "    else:\n",
    "        documents = []\n",
    "        for path in tqdm(pdf_paths, desc=\"Processing PDFs\"):\n",
    "            text = _extract_text_from_pdf(path)\n",
    "            if text:  # 텍스트가 추출된 경우에만 추가\n",
    "                documents.append(Document(page_content=text))\n",
    "        \n",
    "        # 텍스트 분할기 정의\n",
    "        text_splitter = RecursiveCharacterTextSplitter(\n",
    "            chunk_size=1000, chunk_overlap=100, separators=[\"\\n\\n\", \"\\n\", \" \", \"\"]\n",
    "        )\n",
    "        \n",
    "        # Bedrock 임베딩 사용\n",
    "        embeddings = BedrockEmbeddings(\n",
    "            credentials_profile_name='default',\n",
    "            region_name='us-east-1',\n",
    "            model_id='amazon.titan-embed-text-v1'\n",
    "        )\n",
    "        \n",
    "        # FAISS 벡터 저장소 생성\n",
    "        vector_index = FAISS.from_documents(documents, embeddings)\n",
    "        \n",
    "    # 로컬에 저장할 경로\n",
    "    local_index_path = '/tmp/vectordb_index'\n",
    "    if not os.path.exists(local_index_path):\n",
    "        os.makedirs(local_index_path)\n",
    "    \n",
    "    index_file = os.path.join(local_index_path, 'faiss_index')\n",
    "    vector_index.save_local(local_index_path)\n",
    "    \n",
    "    # 로컬 저장 진행상황 출력\n",
    "    print(\"Saving vector DB to local...\")\n",
    "    for file_name in tqdm(os.listdir(local_index_path), desc=\"Saving to local\"):\n",
    "        pass  # tqdm으로 진행 상황만 표시\n",
    "    \n",
    "    # S3에 저장\n",
    "    s3_client = boto3.client('s3')\n",
    "    print(\"Uploading vector DB to S3...\")\n",
    "    for file_name in tqdm(os.listdir(local_index_path), desc=\"Uploading to S3\"):\n",
    "        s3_client.upload_file(\n",
    "            os.path.join(local_index_path, file_name), \n",
    "            bucket_name, \n",
    "            os.path.join(vector_db_s3_path, file_name)\n",
    "        )\n",
    "    \n",
    "    print(f\"Vector DB files uploaded to s3://{bucket_name}/{vector_db_s3_path}\")\n",
    "\n",
    "if __name__ == \"__main__\":\n",
    "    bucket_name = 'snuh-data-team2'\n",
    "    prefix = 'data/'\n",
    "    \n",
    "    # S3에서 PDF 다운로드\n",
    "    pdf_paths = download_pdfs_from_s3(bucket_name, prefix)\n",
    "    print(\"S3 -> Backend Transport Done.\")\n",
    "    \n",
    "    # 벡터 DB 생성 및 S3에 저장\n",
    "    create_and_save_bedrock_index(pdf_paths, bucket_name, preprocess=False)"
   ]
  },
  {
   "cell_type": "code",
   "execution_count": 3,
   "metadata": {},
   "outputs": [
    {
     "name": "stderr",
     "output_type": "stream",
     "text": [
      "c:\\Users\\82103\\anaconda3\\Lib\\site-packages\\langchain_core\\_api\\deprecation.py:141: LangChainDeprecationWarning: The class `BedrockEmbeddings` was deprecated in LangChain 0.2.11 and will be removed in 0.4.0. An updated version of the class exists in the langchain-aws package and should be used instead. To use it run `pip install -U langchain-aws` and import as `from langchain_aws import BedrockEmbeddings`.\n",
      "  warn_deprecated(\n"
     ]
    },
    {
     "ename": "ValueError",
     "evalue": "Error raised by inference endpoint: An error occurred (ValidationException) when calling the InvokeModel operation: Malformed input request: #: extraneous key [texts] is not permitted#: extraneous key [input_type] is not permitted, please reformat your input and try again.",
     "output_type": "error",
     "traceback": [
      "\u001b[1;31m---------------------------------------------------------------------------\u001b[0m",
      "\u001b[1;31mValidationException\u001b[0m                       Traceback (most recent call last)",
      "File \u001b[1;32mc:\\Users\\82103\\anaconda3\\Lib\\site-packages\\langchain_community\\embeddings\\bedrock.py:139\u001b[0m, in \u001b[0;36mBedrockEmbeddings._embedding_func\u001b[1;34m(self, text)\u001b[0m\n\u001b[0;32m    137\u001b[0m \u001b[38;5;28;01mtry\u001b[39;00m:\n\u001b[0;32m    138\u001b[0m     \u001b[38;5;66;03m# invoke bedrock API\u001b[39;00m\n\u001b[1;32m--> 139\u001b[0m     response \u001b[38;5;241m=\u001b[39m \u001b[38;5;28mself\u001b[39m\u001b[38;5;241m.\u001b[39mclient\u001b[38;5;241m.\u001b[39minvoke_model(\n\u001b[0;32m    140\u001b[0m         body\u001b[38;5;241m=\u001b[39mbody,\n\u001b[0;32m    141\u001b[0m         modelId\u001b[38;5;241m=\u001b[39m\u001b[38;5;28mself\u001b[39m\u001b[38;5;241m.\u001b[39mmodel_id,\n\u001b[0;32m    142\u001b[0m         accept\u001b[38;5;241m=\u001b[39m\u001b[38;5;124m\"\u001b[39m\u001b[38;5;124mapplication/json\u001b[39m\u001b[38;5;124m\"\u001b[39m,\n\u001b[0;32m    143\u001b[0m         contentType\u001b[38;5;241m=\u001b[39m\u001b[38;5;124m\"\u001b[39m\u001b[38;5;124mapplication/json\u001b[39m\u001b[38;5;124m\"\u001b[39m,\n\u001b[0;32m    144\u001b[0m     )\n\u001b[0;32m    146\u001b[0m     \u001b[38;5;66;03m# format output based on provider\u001b[39;00m\n",
      "File \u001b[1;32mc:\\Users\\82103\\anaconda3\\Lib\\site-packages\\botocore\\client.py:565\u001b[0m, in \u001b[0;36mClientCreator._create_api_method.<locals>._api_call\u001b[1;34m(self, *args, **kwargs)\u001b[0m\n\u001b[0;32m    564\u001b[0m \u001b[38;5;66;03m# The \"self\" in this scope is referring to the BaseClient.\u001b[39;00m\n\u001b[1;32m--> 565\u001b[0m \u001b[38;5;28;01mreturn\u001b[39;00m \u001b[38;5;28mself\u001b[39m\u001b[38;5;241m.\u001b[39m_make_api_call(operation_name, kwargs)\n",
      "File \u001b[1;32mc:\\Users\\82103\\anaconda3\\Lib\\site-packages\\botocore\\client.py:1017\u001b[0m, in \u001b[0;36mBaseClient._make_api_call\u001b[1;34m(self, operation_name, api_params)\u001b[0m\n\u001b[0;32m   1016\u001b[0m     error_class \u001b[38;5;241m=\u001b[39m \u001b[38;5;28mself\u001b[39m\u001b[38;5;241m.\u001b[39mexceptions\u001b[38;5;241m.\u001b[39mfrom_code(error_code)\n\u001b[1;32m-> 1017\u001b[0m     \u001b[38;5;28;01mraise\u001b[39;00m error_class(parsed_response, operation_name)\n\u001b[0;32m   1018\u001b[0m \u001b[38;5;28;01melse\u001b[39;00m:\n",
      "\u001b[1;31mValidationException\u001b[0m: An error occurred (ValidationException) when calling the InvokeModel operation: Malformed input request: #: extraneous key [texts] is not permitted#: extraneous key [input_type] is not permitted, please reformat your input and try again.",
      "\nDuring handling of the above exception, another exception occurred:\n",
      "\u001b[1;31mValueError\u001b[0m                                Traceback (most recent call last)",
      "Cell \u001b[1;32mIn[3], line 2\u001b[0m\n\u001b[0;32m      1\u001b[0m processor \u001b[38;5;241m=\u001b[39m pp\u001b[38;5;241m.\u001b[39mPDFProcessor(\u001b[38;5;124m'\u001b[39m\u001b[38;5;124m./data/pdf_1.pdf\u001b[39m\u001b[38;5;124m'\u001b[39m)\n\u001b[1;32m----> 2\u001b[0m processor\u001b[38;5;241m.\u001b[39mhr_index()\n",
      "File \u001b[1;32mc:\\Users\\82103\\Desktop\\해커톤\\preprocess.py:46\u001b[0m, in \u001b[0;36mPDFProcessor.hr_index\u001b[1;34m(self)\u001b[0m\n\u001b[0;32m     44\u001b[0m \u001b[38;5;66;03m# 페이지 데이터를 벡터화하고 인덱스에 추가\u001b[39;00m\n\u001b[0;32m     45\u001b[0m \u001b[38;5;28;01mif\u001b[39;00m documents:\n\u001b[1;32m---> 46\u001b[0m     page_index \u001b[38;5;241m=\u001b[39m FAISS\u001b[38;5;241m.\u001b[39mfrom_texts(documents, data_embeddings)\n\u001b[0;32m     47\u001b[0m     \u001b[38;5;28;01mif\u001b[39;00m db_index \u001b[38;5;129;01mis\u001b[39;00m \u001b[38;5;28;01mNone\u001b[39;00m:\n\u001b[0;32m     48\u001b[0m         db_index \u001b[38;5;241m=\u001b[39m page_index\n",
      "File \u001b[1;32mc:\\Users\\82103\\anaconda3\\Lib\\site-packages\\langchain_community\\vectorstores\\faiss.py:1039\u001b[0m, in \u001b[0;36mFAISS.from_texts\u001b[1;34m(cls, texts, embedding, metadatas, ids, **kwargs)\u001b[0m\n\u001b[0;32m   1012\u001b[0m \u001b[38;5;129m@classmethod\u001b[39m\n\u001b[0;32m   1013\u001b[0m \u001b[38;5;28;01mdef\u001b[39;00m \u001b[38;5;21mfrom_texts\u001b[39m(\n\u001b[0;32m   1014\u001b[0m     \u001b[38;5;28mcls\u001b[39m,\n\u001b[1;32m   (...)\u001b[0m\n\u001b[0;32m   1019\u001b[0m     \u001b[38;5;241m*\u001b[39m\u001b[38;5;241m*\u001b[39mkwargs: Any,\n\u001b[0;32m   1020\u001b[0m ) \u001b[38;5;241m-\u001b[39m\u001b[38;5;241m>\u001b[39m FAISS:\n\u001b[0;32m   1021\u001b[0m \u001b[38;5;250m    \u001b[39m\u001b[38;5;124;03m\"\"\"Construct FAISS wrapper from raw documents.\u001b[39;00m\n\u001b[0;32m   1022\u001b[0m \n\u001b[0;32m   1023\u001b[0m \u001b[38;5;124;03m    This is a user friendly interface that:\u001b[39;00m\n\u001b[1;32m   (...)\u001b[0m\n\u001b[0;32m   1037\u001b[0m \u001b[38;5;124;03m            faiss = FAISS.from_texts(texts, embeddings)\u001b[39;00m\n\u001b[0;32m   1038\u001b[0m \u001b[38;5;124;03m    \"\"\"\u001b[39;00m\n\u001b[1;32m-> 1039\u001b[0m     embeddings \u001b[38;5;241m=\u001b[39m embedding\u001b[38;5;241m.\u001b[39membed_documents(texts)\n\u001b[0;32m   1040\u001b[0m     \u001b[38;5;28;01mreturn\u001b[39;00m \u001b[38;5;28mcls\u001b[39m\u001b[38;5;241m.\u001b[39m__from(\n\u001b[0;32m   1041\u001b[0m         texts,\n\u001b[0;32m   1042\u001b[0m         embeddings,\n\u001b[1;32m   (...)\u001b[0m\n\u001b[0;32m   1046\u001b[0m         \u001b[38;5;241m*\u001b[39m\u001b[38;5;241m*\u001b[39mkwargs,\n\u001b[0;32m   1047\u001b[0m     )\n",
      "File \u001b[1;32mc:\\Users\\82103\\anaconda3\\Lib\\site-packages\\langchain_community\\embeddings\\bedrock.py:173\u001b[0m, in \u001b[0;36mBedrockEmbeddings.embed_documents\u001b[1;34m(self, texts)\u001b[0m\n\u001b[0;32m    171\u001b[0m results \u001b[38;5;241m=\u001b[39m []\n\u001b[0;32m    172\u001b[0m \u001b[38;5;28;01mfor\u001b[39;00m text \u001b[38;5;129;01min\u001b[39;00m texts:\n\u001b[1;32m--> 173\u001b[0m     response \u001b[38;5;241m=\u001b[39m \u001b[38;5;28mself\u001b[39m\u001b[38;5;241m.\u001b[39m_embedding_func(text)\n\u001b[0;32m    175\u001b[0m     \u001b[38;5;28;01mif\u001b[39;00m \u001b[38;5;28mself\u001b[39m\u001b[38;5;241m.\u001b[39mnormalize:\n\u001b[0;32m    176\u001b[0m         response \u001b[38;5;241m=\u001b[39m \u001b[38;5;28mself\u001b[39m\u001b[38;5;241m.\u001b[39m_normalize_vector(response)\n",
      "File \u001b[1;32mc:\\Users\\82103\\anaconda3\\Lib\\site-packages\\langchain_community\\embeddings\\bedrock.py:154\u001b[0m, in \u001b[0;36mBedrockEmbeddings._embedding_func\u001b[1;34m(self, text)\u001b[0m\n\u001b[0;32m    152\u001b[0m         \u001b[38;5;28;01mreturn\u001b[39;00m response_body\u001b[38;5;241m.\u001b[39mget(\u001b[38;5;124m\"\u001b[39m\u001b[38;5;124membedding\u001b[39m\u001b[38;5;124m\"\u001b[39m)\n\u001b[0;32m    153\u001b[0m \u001b[38;5;28;01mexcept\u001b[39;00m \u001b[38;5;167;01mException\u001b[39;00m \u001b[38;5;28;01mas\u001b[39;00m e:\n\u001b[1;32m--> 154\u001b[0m     \u001b[38;5;28;01mraise\u001b[39;00m \u001b[38;5;167;01mValueError\u001b[39;00m(\u001b[38;5;124mf\u001b[39m\u001b[38;5;124m\"\u001b[39m\u001b[38;5;124mError raised by inference endpoint: \u001b[39m\u001b[38;5;132;01m{\u001b[39;00me\u001b[38;5;132;01m}\u001b[39;00m\u001b[38;5;124m\"\u001b[39m)\n",
      "\u001b[1;31mValueError\u001b[0m: Error raised by inference endpoint: An error occurred (ValidationException) when calling the InvokeModel operation: Malformed input request: #: extraneous key [texts] is not permitted#: extraneous key [input_type] is not permitted, please reformat your input and try again."
     ]
    }
   ],
   "source": [
    "processor = pp.PDFProcessor('./data/pdf_1.pdf')\n",
    "processor.hr_index()"
   ]
  },
  {
   "cell_type": "code",
   "execution_count": 1,
   "metadata": {},
   "outputs": [
    {
     "data": {
      "text/plain": [
       "'dataframe: {0:{{0:{성분명}, 1:{흡입속효성베타작용제 Salbutamol(Albuterol)}, 2:{}, 3:{}, 4:{}, 5:{}, 6:{}, 7:{}, 8:{}, 9:{}}, 1:{{0:{상품명}, 1:{벤토린 에보할러}, 2:{}, 3:{}, 4:{벤토린 네뷸}, 5:{}, 6:{}, 7:{벤토린 흡입액}, 8:{}, 9:{}}, 2:{{0:{제형}, 1:{흡입제(MDI)}, 2:{}, 3:{}, 4:{흡입액}, 5:{}, 6:{}, 7:{흡입액}, 8:{}, 9:{}}, 3:{{0:{용량/단위}, 1:{100 μg/puff200 puffs/ea}, 2:{}, 3:{}, 4:{2.5 mg/2.5 mL2.5 mL/Amp}, 5:{}, 6:{}, 7:{5 mg/mL20 mL/병}, 8:{}, 9:{}}, 4:{{0:{용법}, 1:{1회 2 puffs씩1일 4회 흡입(1일 최대 8 puffs)}, 2:{}, 3:{}, 4:{1회 2.5~5 mL를 4~6 시간 간격으로 분무기를  이용하여 흡입}, 5:{}, 6:{}, 7:{용액 0.5~1 mL를 최종 용적이 2~4 mL가 되도록 생리 식염수로 희석한 후, 1일 4회 분무기를  이용하여 흡입}, 8:{}, 9:{}}, 5:{{0:{급여구분}, 1:{급여}, 2:{}, 3:{}, 4:{급여}, 5:{}, 6:{}, 7:{급여}, 8:{}, 9:{}}, 6:{{0:{사진}, 1:{}, 2:{}, 3:{}, 4:{}, 5:{}, 6:{}, 7:{}, 8:{}, 9:{}}, 7:{{0:{}, 1:{}, 2:{}, 3:{}, 4:{}, 5:{}, 6:{}, 7:{}, 8:{}, 9:{}}, 8:{{0:{}, 1:{}, 2:{}, 3:{}, 4:{}, 5:{}, 6:{}, 7:{}, 8:{}, 9:{}}, 9:{{0:{사용법}, 1:{}, 2:{}, 3:{}, 4:{}, 5:{}, 6:{}, 7:{}, 8:{}, 9:{}}, 10:{{0:{부작용}, 1:{구강·인후 자극감, 기침, 폐질환, 기관지염, 후두염, 천명, 쉰 목소리, 인두염, 비충혈, 구강 인두 건조감, 두통, 진전, 신경과민, 졸음, 어지러움, 불면, 불안, 흥분, 운동과잉, 심계항진, 빈맥, 혈압 변동, 협심증, 부정맥, 말초혈관이완, 식욕부진, 구역, 구토, 구갈, 구내염, 미각 이상, 설사, 두드러기, 발진, 혈관부종, 기관지 경련, 구강인두 부종, 저혈압, 허탈, 중증의 저칼륨혈증, 근육통, 근육 경련, 근육 경축, 드물게 근육 긴장감}, 2:{}, 3:{}, 4:{}, 5:{}, 6:{}, 7:{}, 8:{}, 9:{}}, 11:{{0:{참고사항}, 1:{금기본 약제 혹은 교감신경흥분성 아민류 과민증, 비후성 심근병증}, 2:{}, 3:{}, 4:{}, 5:{}, 6:{}, 7:{}, 8:{}, 9:{}}, 12:{{0:{}, 1:{신중투여갑상선기능항진증, 고혈압, 심부전증, 부정맥 등 심질환, 당뇨병, 경련 질환}, 2:{}, 3:{}, 4:{}, 5:{}, 6:{}, 7:{}, 8:{}, 9:{}}}'"
      ]
     },
     "metadata": {},
     "output_type": "display_data"
    }
   ],
   "source": [
    "from extract_tables_and_images import extract_tables\n",
    "from IPython.display import display\n",
    "loop = extract_tables('./data/pdf_1.pdf', 83)\n",
    "\n",
    "for item in loop:\n",
    "    display(item)"
   ]
  },
  {
   "cell_type": "code",
   "execution_count": null,
   "metadata": {},
   "outputs": [],
   "source": []
  }
 ],
 "metadata": {
  "kernelspec": {
   "display_name": "base",
   "language": "python",
   "name": "python3"
  },
  "language_info": {
   "codemirror_mode": {
    "name": "ipython",
    "version": 3
   },
   "file_extension": ".py",
   "mimetype": "text/x-python",
   "name": "python",
   "nbconvert_exporter": "python",
   "pygments_lexer": "ipython3",
   "version": "3.12.3"
  }
 },
 "nbformat": 4,
 "nbformat_minor": 2
}
